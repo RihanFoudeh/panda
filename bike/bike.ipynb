{
 "cells": [
  {
   "cell_type": "markdown",
   "metadata": {},
   "source": [
    "\n",
    "## Lab: 12 - Data Analysis with Pandas"
   ]
  },
  {
   "cell_type": "code",
   "execution_count": 22,
   "metadata": {},
   "outputs": [],
   "source": [
    "\n",
    "\n",
    "import pandas as pd\n",
    "import numpy as np"
   ]
  },
  {
   "cell_type": "code",
   "execution_count": 23,
   "metadata": {},
   "outputs": [
    {
     "name": "stderr",
     "output_type": "stream",
     "text": [
      "/home/rihan/401/panda/.venv/lib/python3.9/site-packages/IPython/core/interactiveshell.py:3444: FutureWarning: The error_bad_lines argument has been deprecated and will be removed in a future version.\n",
      "\n",
      "\n",
      "  exec(code_obj, self.user_global_ns, self.user_ns)\n",
      "b'Skipping line 50794: expected 12 fields, saw 20\\n'\n"
     ]
    },
    {
     "data": {
      "text/html": [
       "<div>\n",
       "<style scoped>\n",
       "    .dataframe tbody tr th:only-of-type {\n",
       "        vertical-align: middle;\n",
       "    }\n",
       "\n",
       "    .dataframe tbody tr th {\n",
       "        vertical-align: top;\n",
       "    }\n",
       "\n",
       "    .dataframe thead th {\n",
       "        text-align: right;\n",
       "    }\n",
       "</style>\n",
       "<table border=\"1\" class=\"dataframe\">\n",
       "  <thead>\n",
       "    <tr style=\"text-align: right;\">\n",
       "      <th></th>\n",
       "      <th>trip_id</th>\n",
       "      <th>starttime</th>\n",
       "      <th>stoptime</th>\n",
       "      <th>bikeid</th>\n",
       "      <th>tripduration</th>\n",
       "      <th>from_station_name</th>\n",
       "      <th>to_station_name</th>\n",
       "      <th>from_station_id</th>\n",
       "      <th>to_station_id</th>\n",
       "      <th>usertype</th>\n",
       "      <th>gender</th>\n",
       "      <th>birthyear</th>\n",
       "    </tr>\n",
       "  </thead>\n",
       "  <tbody>\n",
       "    <tr>\n",
       "      <th>0</th>\n",
       "      <td>431</td>\n",
       "      <td>10/13/2014 10:31</td>\n",
       "      <td>10/13/2014 10:48</td>\n",
       "      <td>SEA00298</td>\n",
       "      <td>985.935</td>\n",
       "      <td>2nd Ave &amp; Spring St</td>\n",
       "      <td>Occidental Park / Occidental Ave S &amp; S Washing...</td>\n",
       "      <td>CBD-06</td>\n",
       "      <td>PS-04</td>\n",
       "      <td>Member</td>\n",
       "      <td>Male</td>\n",
       "      <td>1960.0</td>\n",
       "    </tr>\n",
       "    <tr>\n",
       "      <th>1</th>\n",
       "      <td>432</td>\n",
       "      <td>10/13/2014 10:32</td>\n",
       "      <td>10/13/2014 10:48</td>\n",
       "      <td>SEA00195</td>\n",
       "      <td>926.375</td>\n",
       "      <td>2nd Ave &amp; Spring St</td>\n",
       "      <td>Occidental Park / Occidental Ave S &amp; S Washing...</td>\n",
       "      <td>CBD-06</td>\n",
       "      <td>PS-04</td>\n",
       "      <td>Member</td>\n",
       "      <td>Male</td>\n",
       "      <td>1970.0</td>\n",
       "    </tr>\n",
       "    <tr>\n",
       "      <th>2</th>\n",
       "      <td>433</td>\n",
       "      <td>10/13/2014 10:33</td>\n",
       "      <td>10/13/2014 10:48</td>\n",
       "      <td>SEA00486</td>\n",
       "      <td>883.831</td>\n",
       "      <td>2nd Ave &amp; Spring St</td>\n",
       "      <td>Occidental Park / Occidental Ave S &amp; S Washing...</td>\n",
       "      <td>CBD-06</td>\n",
       "      <td>PS-04</td>\n",
       "      <td>Member</td>\n",
       "      <td>Female</td>\n",
       "      <td>1988.0</td>\n",
       "    </tr>\n",
       "    <tr>\n",
       "      <th>3</th>\n",
       "      <td>434</td>\n",
       "      <td>10/13/2014 10:34</td>\n",
       "      <td>10/13/2014 10:48</td>\n",
       "      <td>SEA00333</td>\n",
       "      <td>865.937</td>\n",
       "      <td>2nd Ave &amp; Spring St</td>\n",
       "      <td>Occidental Park / Occidental Ave S &amp; S Washing...</td>\n",
       "      <td>CBD-06</td>\n",
       "      <td>PS-04</td>\n",
       "      <td>Member</td>\n",
       "      <td>Female</td>\n",
       "      <td>1977.0</td>\n",
       "    </tr>\n",
       "    <tr>\n",
       "      <th>4</th>\n",
       "      <td>435</td>\n",
       "      <td>10/13/2014 10:34</td>\n",
       "      <td>10/13/2014 10:49</td>\n",
       "      <td>SEA00202</td>\n",
       "      <td>923.923</td>\n",
       "      <td>2nd Ave &amp; Spring St</td>\n",
       "      <td>Occidental Park / Occidental Ave S &amp; S Washing...</td>\n",
       "      <td>CBD-06</td>\n",
       "      <td>PS-04</td>\n",
       "      <td>Member</td>\n",
       "      <td>Male</td>\n",
       "      <td>1971.0</td>\n",
       "    </tr>\n",
       "    <tr>\n",
       "      <th>...</th>\n",
       "      <td>...</td>\n",
       "      <td>...</td>\n",
       "      <td>...</td>\n",
       "      <td>...</td>\n",
       "      <td>...</td>\n",
       "      <td>...</td>\n",
       "      <td>...</td>\n",
       "      <td>...</td>\n",
       "      <td>...</td>\n",
       "      <td>...</td>\n",
       "      <td>...</td>\n",
       "      <td>...</td>\n",
       "    </tr>\n",
       "    <tr>\n",
       "      <th>286852</th>\n",
       "      <td>255241</td>\n",
       "      <td>8/31/2016 23:34</td>\n",
       "      <td>8/31/2016 23:45</td>\n",
       "      <td>SEA00201</td>\n",
       "      <td>679.532</td>\n",
       "      <td>Harvard Ave &amp; E Pine St</td>\n",
       "      <td>2nd Ave &amp; Spring St</td>\n",
       "      <td>CH-09</td>\n",
       "      <td>CBD-06</td>\n",
       "      <td>Short-Term Pass Holder</td>\n",
       "      <td>NaN</td>\n",
       "      <td>NaN</td>\n",
       "    </tr>\n",
       "    <tr>\n",
       "      <th>286853</th>\n",
       "      <td>255242</td>\n",
       "      <td>8/31/2016 23:48</td>\n",
       "      <td>9/1/2016 0:20</td>\n",
       "      <td>SEA00247</td>\n",
       "      <td>1965.418</td>\n",
       "      <td>Cal Anderson Park / 11th Ave &amp; Pine St</td>\n",
       "      <td>6th Ave S &amp; S King St</td>\n",
       "      <td>CH-08</td>\n",
       "      <td>ID-04</td>\n",
       "      <td>Short-Term Pass Holder</td>\n",
       "      <td>NaN</td>\n",
       "      <td>NaN</td>\n",
       "    </tr>\n",
       "    <tr>\n",
       "      <th>286854</th>\n",
       "      <td>255243</td>\n",
       "      <td>8/31/2016 23:47</td>\n",
       "      <td>9/1/2016 0:20</td>\n",
       "      <td>SEA00300</td>\n",
       "      <td>1951.173</td>\n",
       "      <td>Cal Anderson Park / 11th Ave &amp; Pine St</td>\n",
       "      <td>6th Ave S &amp; S King St</td>\n",
       "      <td>CH-08</td>\n",
       "      <td>ID-04</td>\n",
       "      <td>Short-Term Pass Holder</td>\n",
       "      <td>NaN</td>\n",
       "      <td>NaN</td>\n",
       "    </tr>\n",
       "    <tr>\n",
       "      <th>286855</th>\n",
       "      <td>255244</td>\n",
       "      <td>8/31/2016 23:49</td>\n",
       "      <td>9/1/2016 0:20</td>\n",
       "      <td>SEA00047</td>\n",
       "      <td>1883.299</td>\n",
       "      <td>Cal Anderson Park / 11th Ave &amp; Pine St</td>\n",
       "      <td>6th Ave S &amp; S King St</td>\n",
       "      <td>CH-08</td>\n",
       "      <td>ID-04</td>\n",
       "      <td>Short-Term Pass Holder</td>\n",
       "      <td>NaN</td>\n",
       "      <td>NaN</td>\n",
       "    </tr>\n",
       "    <tr>\n",
       "      <th>286856</th>\n",
       "      <td>255245</td>\n",
       "      <td>8/31/2016 23:49</td>\n",
       "      <td>9/1/2016 0:20</td>\n",
       "      <td>SEA00442</td>\n",
       "      <td>1896.031</td>\n",
       "      <td>Cal Anderson Park / 11th Ave &amp; Pine St</td>\n",
       "      <td>6th Ave S &amp; S King St</td>\n",
       "      <td>CH-08</td>\n",
       "      <td>ID-04</td>\n",
       "      <td>Short-Term Pass Holder</td>\n",
       "      <td>NaN</td>\n",
       "      <td>NaN</td>\n",
       "    </tr>\n",
       "  </tbody>\n",
       "</table>\n",
       "<p>286857 rows × 12 columns</p>\n",
       "</div>"
      ],
      "text/plain": [
       "        trip_id         starttime          stoptime    bikeid  tripduration  \\\n",
       "0           431  10/13/2014 10:31  10/13/2014 10:48  SEA00298       985.935   \n",
       "1           432  10/13/2014 10:32  10/13/2014 10:48  SEA00195       926.375   \n",
       "2           433  10/13/2014 10:33  10/13/2014 10:48  SEA00486       883.831   \n",
       "3           434  10/13/2014 10:34  10/13/2014 10:48  SEA00333       865.937   \n",
       "4           435  10/13/2014 10:34  10/13/2014 10:49  SEA00202       923.923   \n",
       "...         ...               ...               ...       ...           ...   \n",
       "286852   255241   8/31/2016 23:34   8/31/2016 23:45  SEA00201       679.532   \n",
       "286853   255242   8/31/2016 23:48     9/1/2016 0:20  SEA00247      1965.418   \n",
       "286854   255243   8/31/2016 23:47     9/1/2016 0:20  SEA00300      1951.173   \n",
       "286855   255244   8/31/2016 23:49     9/1/2016 0:20  SEA00047      1883.299   \n",
       "286856   255245   8/31/2016 23:49     9/1/2016 0:20  SEA00442      1896.031   \n",
       "\n",
       "                             from_station_name  \\\n",
       "0                          2nd Ave & Spring St   \n",
       "1                          2nd Ave & Spring St   \n",
       "2                          2nd Ave & Spring St   \n",
       "3                          2nd Ave & Spring St   \n",
       "4                          2nd Ave & Spring St   \n",
       "...                                        ...   \n",
       "286852                 Harvard Ave & E Pine St   \n",
       "286853  Cal Anderson Park / 11th Ave & Pine St   \n",
       "286854  Cal Anderson Park / 11th Ave & Pine St   \n",
       "286855  Cal Anderson Park / 11th Ave & Pine St   \n",
       "286856  Cal Anderson Park / 11th Ave & Pine St   \n",
       "\n",
       "                                          to_station_name from_station_id  \\\n",
       "0       Occidental Park / Occidental Ave S & S Washing...          CBD-06   \n",
       "1       Occidental Park / Occidental Ave S & S Washing...          CBD-06   \n",
       "2       Occidental Park / Occidental Ave S & S Washing...          CBD-06   \n",
       "3       Occidental Park / Occidental Ave S & S Washing...          CBD-06   \n",
       "4       Occidental Park / Occidental Ave S & S Washing...          CBD-06   \n",
       "...                                                   ...             ...   \n",
       "286852                                2nd Ave & Spring St           CH-09   \n",
       "286853                              6th Ave S & S King St           CH-08   \n",
       "286854                              6th Ave S & S King St           CH-08   \n",
       "286855                              6th Ave S & S King St           CH-08   \n",
       "286856                              6th Ave S & S King St           CH-08   \n",
       "\n",
       "       to_station_id                usertype  gender  birthyear  \n",
       "0              PS-04                  Member    Male     1960.0  \n",
       "1              PS-04                  Member    Male     1970.0  \n",
       "2              PS-04                  Member  Female     1988.0  \n",
       "3              PS-04                  Member  Female     1977.0  \n",
       "4              PS-04                  Member    Male     1971.0  \n",
       "...              ...                     ...     ...        ...  \n",
       "286852        CBD-06  Short-Term Pass Holder     NaN        NaN  \n",
       "286853         ID-04  Short-Term Pass Holder     NaN        NaN  \n",
       "286854         ID-04  Short-Term Pass Holder     NaN        NaN  \n",
       "286855         ID-04  Short-Term Pass Holder     NaN        NaN  \n",
       "286856         ID-04  Short-Term Pass Holder     NaN        NaN  \n",
       "\n",
       "[286857 rows x 12 columns]"
      ]
     },
     "execution_count": 23,
     "metadata": {},
     "output_type": "execute_result"
    }
   ],
   "source": [
    "data_stations = pd.read_csv('./station.csv' )\n",
    "data_trip = pd.read_csv('./trip.csv',error_bad_lines=False )\n",
    "data_weather = pd.read_csv('./weather.csv')\n",
    "\n",
    "data_trip"
   ]
  },
  {
   "cell_type": "markdown",
   "metadata": {},
   "source": [
    "## 1 - What is the average trip duration for a borrowed bicycle?"
   ]
  },
  {
   "cell_type": "code",
   "execution_count": 24,
   "metadata": {},
   "outputs": [
    {
     "data": {
      "text/plain": [
       "1178.2956753399776"
      ]
     },
     "execution_count": 24,
     "metadata": {},
     "output_type": "execute_result"
    }
   ],
   "source": [
    "\n",
    "average_trip=data_trip['tripduration'].mean()\n",
    "average_trip"
   ]
  },
  {
   "cell_type": "markdown",
   "metadata": {},
   "source": [
    "## 2 - What’s the most common age of a bicycle-sharer?"
   ]
  },
  {
   "cell_type": "code",
   "execution_count": 25,
   "metadata": {},
   "outputs": [
    {
     "data": {
      "text/plain": [
       "34.0"
      ]
     },
     "execution_count": 25,
     "metadata": {},
     "output_type": "execute_result"
    }
   ],
   "source": [
    "most_common_age=data_trip['birthyear'].mode()[0]\n",
    "most_common_age = 2021-most_common_age \n",
    "most_common_age"
   ]
  },
  {
   "cell_type": "markdown",
   "metadata": {},
   "source": [
    "## 3 - Given all the weather data here, find the average precipitation per month, and the median precipitation."
   ]
  },
  {
   "cell_type": "code",
   "execution_count": 33,
   "metadata": {},
   "outputs": [
    {
     "data": {
      "text/plain": [
       "(            Precipitation_In\n",
       " year month                  \n",
       " 2014 10             0.300526\n",
       "      11             0.141667\n",
       "      12             0.145161\n",
       " 2015 1              0.070645\n",
       "      2              0.163214\n",
       "      3              0.135161\n",
       "      4              0.056667\n",
       "      5              0.014194\n",
       "      6              0.005667\n",
       "      7              0.008710\n",
       "      8              0.035484\n",
       "      9              0.041000\n",
       "      10             0.120645\n",
       "      11             0.234000\n",
       "      12             0.327419\n",
       " 2016 1              0.216452\n",
       "      2              0.173448\n",
       "      3              0.178710\n",
       "      4              0.046000\n",
       "      5              0.010645\n",
       "      6              0.055333\n",
       "      7              0.015484\n",
       "      8              0.000968,\n",
       "             Precipitation_In\n",
       " year month                  \n",
       " 2014 10                0.140\n",
       "      11                0.010\n",
       "      12                0.010\n",
       " 2015 1                 0.010\n",
       "      2                 0.025\n",
       "      3                 0.000\n",
       "      4                 0.000\n",
       "      5                 0.000\n",
       "      6                 0.000\n",
       "      7                 0.000\n",
       "      8                 0.000\n",
       "      9                 0.000\n",
       "      10                0.010\n",
       "      11                0.065\n",
       "      12                0.120\n",
       " 2016 1                 0.070\n",
       "      2                 0.080\n",
       "      3                 0.060\n",
       "      4                 0.000\n",
       "      5                 0.000\n",
       "      6                 0.000\n",
       "      7                 0.000\n",
       "      8                 0.000)"
      ]
     },
     "execution_count": 33,
     "metadata": {},
     "output_type": "execute_result"
    }
   ],
   "source": [
    "data_weather[\"month\"]=pd.DatetimeIndex(data_weather[\"Date\"]).month\n",
    "data_weather[\"year\"]=pd.DatetimeIndex(data_weather[\"Date\"]).year\n",
    "avg_precipitation_month=data_weather[['Precipitation_In',\"month\",'year']].groupby(['year','month']).mean()\n",
    "median_preciption=data_weather[['Precipitation_In',\"month\",'year']].groupby(['year','month']).median()\n",
    "avg_precipitation_month, median_preciption\n",
    "\n",
    "\n",
    "# avg_precipitation_month"
   ]
  },
  {
   "cell_type": "markdown",
   "metadata": {},
   "source": [
    "## 4 - What’s the average number of bikes at a given bike station"
   ]
  },
  {
   "cell_type": "code",
   "execution_count": 50,
   "metadata": {},
   "outputs": [
    {
     "data": {
      "text/plain": [
       "17.586206896551722"
      ]
     },
     "execution_count": 50,
     "metadata": {},
     "output_type": "execute_result"
    }
   ],
   "source": [
    "median_precipitation =data_stations[\"install_dockcount\"].mean()\n",
    "median_precipitation\n"
   ]
  },
  {
   "cell_type": "markdown",
   "metadata": {},
   "source": [
    "## 5 - When a bike station is modified, is it more likely that it’ll lose bikes or gain bikes? How do you know"
   ]
  },
  {
   "cell_type": "code",
   "execution_count": 57,
   "metadata": {},
   "outputs": [
    {
     "name": "stdout",
     "output_type": "stream",
     "text": [
      "-64\n",
      "it will lose\n"
     ]
    }
   ],
   "source": [
    "date=data_stations[['modification_date','current_dockcount','install_dockcount']].dropna()\n",
    "avareg_bike=date['current_dockcount'].sum() - date['install_dockcount'].sum()\n",
    "print(avareg_bike)\n",
    "print('it will lose')"
   ]
  },
  {
   "cell_type": "markdown",
   "metadata": {},
   "source": [
    "\n",
    "it is most likely to lose bikes, because the modified mean is less than the previous mean"
   ]
  },
  {
   "cell_type": "markdown",
   "metadata": {},
   "source": [
    "## 6 - Come up with 3 more questions that can be answered with this data set."
   ]
  },
  {
   "cell_type": "markdown",
   "metadata": {},
   "source": [
    "## 1) what is the gender for trip_id=433 ?¶"
   ]
  },
  {
   "cell_type": "code",
   "execution_count": 29,
   "metadata": {},
   "outputs": [
    {
     "data": {
      "text/plain": [
       "2        Female\n",
       "50794    Female\n",
       "Name: gender, dtype: object"
      ]
     },
     "execution_count": 29,
     "metadata": {},
     "output_type": "execute_result"
    }
   ],
   "source": [
    "gender = data_trip[data_trip[\"trip_id\"]==433][\"gender\"]\n",
    "gender"
   ]
  },
  {
   "cell_type": "markdown",
   "metadata": {},
   "source": [
    "## 2) in when day recorded most temperature in it ?"
   ]
  },
  {
   "cell_type": "code",
   "execution_count": 30,
   "metadata": {},
   "outputs": [
    {
     "data": {
      "text/plain": [
       "'9/9/2015'"
      ]
     },
     "execution_count": 30,
     "metadata": {},
     "output_type": "execute_result"
    }
   ],
   "source": [
    "max1=data_weather[\"Date\"].max()\n",
    "max1"
   ]
  },
  {
   "cell_type": "markdown",
   "metadata": {},
   "source": [
    "## 3) what is the names of stations where current_dockcount =24 ?"
   ]
  },
  {
   "cell_type": "code",
   "execution_count": 31,
   "metadata": {},
   "outputs": [
    {
     "data": {
      "text/plain": [
       "22    Children's Hospital / Sandpoint Way NE & 40th ...\n",
       "52                      Pier 69 / Alaskan Way & Clay St\n",
       "Name: name, dtype: object"
      ]
     },
     "execution_count": 31,
     "metadata": {},
     "output_type": "execute_result"
    }
   ],
   "source": [
    "name= data_stations[data_stations[\"current_dockcount\"]==24][\"name\"]\n",
    "name"
   ]
  },
  {
   "cell_type": "markdown",
   "metadata": {},
   "source": [
    "\n",
    "#  User Acceptance Tests"
   ]
  },
  {
   "cell_type": "code",
   "execution_count": 69,
   "metadata": {},
   "outputs": [
    {
     "name": "stdout",
     "output_type": "stream",
     "text": [
      "Success!!!\n"
     ]
    }
   ],
   "source": [
    "\n",
    "def test ():\n",
    "    \n",
    "    def assert_equal(actual,expected):\n",
    "       \n",
    "        assert actual == expected, f\"Expected {expected} but got {actual}\"\n",
    "\n",
    "    assert_equal(average_trip, 1178.2956753399776)\n",
    "    assert_equal(most_common_age, 34.0)\n",
    "    assert_equal(median_precipitation, 17.586206896551722)\n",
    "    assert_equal(avareg_bike, -64) \n",
    "    assert_equal(max1,'9/9/2015')\n",
    "    print(\"Success!!!\")\n",
    "        \n",
    "test()"
   ]
  }
 ],
 "metadata": {
  "interpreter": {
   "hash": "d0cbf68a1332d9c83864199b8c89a2e77944300caa5d19d727732e5b21b2db34"
  },
  "kernelspec": {
   "display_name": "Python 3.9.5 64-bit ('.venv': poetry)",
   "language": "python",
   "name": "python3"
  },
  "language_info": {
   "codemirror_mode": {
    "name": "ipython",
    "version": 3
   },
   "file_extension": ".py",
   "mimetype": "text/x-python",
   "name": "python",
   "nbconvert_exporter": "python",
   "pygments_lexer": "ipython3",
   "version": "3.9.5"
  },
  "orig_nbformat": 4
 },
 "nbformat": 4,
 "nbformat_minor": 2
}
